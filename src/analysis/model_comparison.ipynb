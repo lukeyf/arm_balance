{
 "cells": [
  {
   "cell_type": "markdown",
   "metadata": {},
   "source": [
    "## Summary\n",
    "\n",
    "Here we compare the performances of three models using simple linear regression, multi-linear regression (without regularization), and support vector machines. Each of the models is recursively trained using each data point as the test set and the rest of the data points as the training set."
   ]
  },
  {
   "cell_type": "code",
   "execution_count": 25,
   "metadata": {},
   "outputs": [],
   "source": [
    "# imports\n",
    "import numpy as np\n",
    "import pandas as pd\n",
    "import os\n",
    "import matplotlib.pyplot as plt\n",
    "from sklearn.preprocessing import StandardScaler\n",
    "from sklearn.pipeline import make_pipeline\n",
    "from sklearn.svm import SVR\n",
    "from sklearn.linear_model import LinearRegression\n",
    "from scipy.stats import sem\n",
    "import altair as alt\n",
    "import sys\n",
    "cur_dir = os.getcwd()\n",
    "SRC_PATH = cur_dir[\n",
    "    : cur_dir.index(\"arm_balance\") + len(\"arm_balance\")\n",
    "]\n",
    "if SRC_PATH not in sys.path:\n",
    "    sys.path.append(SRC_PATH)\n",
    "    \n",
    "from src.utils.utils import *"
   ]
  },
  {
   "cell_type": "markdown",
   "metadata": {},
   "source": [
    "The following code shows using simple linear regression of a single data point:"
   ]
  },
  {
   "cell_type": "code",
   "execution_count": 52,
   "metadata": {},
   "outputs": [
    {
     "data": {
      "text/plain": [
       "<matplotlib.collections.PathCollection at 0x1614d9300>"
      ]
     },
     "execution_count": 52,
     "metadata": {},
     "output_type": "execute_result"
    },
    {
     "data": {
      "image/png": "[encoded data removed]",
      "text/plain": [
       "<Figure size 640x480 with 1 Axes>"
      ]
     },
     "metadata": {},
     "output_type": "display_data"
    }
   ],
   "source": [
    "import matplotlib.pyplot as plt\n",
    "DATA_DIR = '../../data/raw_data/'\n",
    "files = [DATA_DIR + f for f in files]\n",
    "train_df, test_df= get_data(files, group_size=1)[:-3] ,get_data(files, group_size=1)[-3:]\n",
    "lr = LinearRegression()\n",
    "lr.fit(train_df['1'].to_numpy().reshape(-1, 1), train_df['y'])\n",
    "\n",
    "lr_df = pd.DataFrame({'train':train_df['1'],\n",
    "                      'test':test_df['1']})\n",
    "\n",
    "\n",
    "plt.scatter(train_df['1'], train_df['y'])\n",
    "def reg(x):\n",
    "    return lr.coef_*x+lr.intercept_\n",
    "\n",
    "plt.plot(train_df['1'], reg(train_df['1']))\n",
    "plt.scatter(test_df['1'],  test_df['y'])"
   ]
  },
  {
   "cell_type": "markdown",
   "metadata": {},
   "source": [
    "The following code load data by groups of 1000:"
   ]
  },
  {
   "cell_type": "code",
   "execution_count": 26,
   "metadata": {},
   "outputs": [],
   "source": [
    "DATA_DIR = '../../data/raw_data/'\n",
    "files = os.listdir(DATA_DIR)\n",
    "np.random.seed(123)\n",
    "np.random.shuffle(files)\n",
    "df = None\n",
    "group_by_count = 1000 # has to be 10000-divisble \n",
    "\n",
    "for data in files:\n",
    "    content = pd.read_csv(os.path.join(DATA_DIR, data))\n",
    "    for i in range(len(content)//group_by_count):\n",
    "        grouped_content = content[i*group_by_count: (i+1)*group_by_count]\n",
    "        grouped_content = pd.DataFrame(pd.DataFrame(np.average(grouped_content,      axis=0).reshape(1,8), \n",
    "                                       columns=content.columns), \n",
    "                                       columns=content.columns)\n",
    "        df = pd.concat([df, grouped_content])\n",
    "df = df.iloc[: , 1:]\n",
    "res = pd.DataFrame()"
   ]
  },
  {
   "cell_type": "markdown",
   "metadata": {},
   "source": [
    "The following code is using linear regression of the second joint:"
   ]
  },
  {
   "cell_type": "code",
   "execution_count": 27,
   "metadata": {},
   "outputs": [],
   "source": [
    "\n",
    "result = []\n",
    "target = []\n",
    "for i in range(len(files)):\n",
    "    data_count = int(10000/group_by_count)\n",
    "    test_set = df[i*data_count: (i+1)*data_count]\n",
    "    test_set_target = np.average(test_set['y'])\n",
    "    train_set = df.query('y != @test_set_target')\n",
    "    \n",
    "    X_train, y_train = train_set.drop(columns=['y']), train_set['y']\n",
    "    X_test, y_test = test_set.drop(columns=['y']), train_set['y']\n",
    "    \n",
    "    lr_pipe = LinearRegression()\n",
    "    lr_pipe.fit(X_train['2'].to_numpy().reshape(-1, 1),y_train)\n",
    "    \n",
    "    error = np.average(lr_pipe.predict(X_test['2'].to_numpy().reshape(-1, 1))) - test_set_target\n",
    "    \n",
    "    target.append(test_set_target)\n",
    "    result.append(np.abs(error))\n",
    "res['lr'] = result\n",
    "res['target'] = target"
   ]
  },
  {
   "cell_type": "code",
   "execution_count": 28,
   "metadata": {},
   "outputs": [
    {
     "data": {
      "text/html": [
       "\n",
       "<div id=\"altair-viz-39b5bb3e00b643b3acb8c46c3df7b04b\"></div>\n",
       "<script type=\"text/javascript\">\n",
       "  var VEGA_DEBUG = (typeof VEGA_DEBUG == \"undefined\") ? {} : VEGA_DEBUG;\n",
       "  (function(spec, embedOpt){\n",
       "    let outputDiv = document.currentScript.previousElementSibling;\n",
       "    if (outputDiv.id !== \"altair-viz-39b5bb3e00b643b3acb8c46c3df7b04b\") {\n",
       "      outputDiv = document.getElementById(\"altair-viz-39b5bb3e00b643b3acb8c46c3df7b04b\");\n",
       "    }\n",
       "    const paths = {\n",
       "      \"vega\": \"https://cdn.jsdelivr.net/npm//vega@5?noext\",\n",
       "      \"vega-lib\": \"https://cdn.jsdelivr.net/npm//vega-lib?noext\",\n",
       "      \"vega-lite\": \"https://cdn.jsdelivr.net/npm//vega-lite@4.17.0?noext\",\n",
       "      \"vega-embed\": \"https://cdn.jsdelivr.net/npm//vega-embed@6?noext\",\n",
       "    };\n",
       "\n",
       "    function maybeLoadScript(lib, version) {\n",
       "      var key = `${lib.replace(\"-\", \"\")}_version`;\n",
       "      return (VEGA_DEBUG[key] == version) ?\n",
       "        Promise.resolve(paths[lib]) :\n",
       "        new Promise(function(resolve, reject) {\n",
       "          var s = document.createElement('script');\n",
       "          document.getElementsByTagName(\"head\")[0].appendChild(s);\n",
       "          s.async = true;\n",
       "          s.onload = () => {\n",
       "            VEGA_DEBUG[key] = version;\n",
       "            return resolve(paths[lib]);\n",
       "          };\n",
       "          s.onerror = () => reject(`Error loading script: ${paths[lib]}`);\n",
       "          s.src = paths[lib];\n",
       "        });\n",
       "    }\n",
       "\n",
       "    function showError(err) {\n",
       "      outputDiv.innerHTML = `<div class=\"error\" style=\"color:red;\">${err}</div>`;\n",
       "      throw err;\n",
       "    }\n",
       "\n",
       "    function displayChart(vegaEmbed) {\n",
       "      vegaEmbed(outputDiv, spec, embedOpt)\n",
       "        .catch(err => showError(`Javascript Error: ${err.message}<br>This usually means there's a typo in your chart specification. See the javascript console for the full traceback.`));\n",
       "    }\n",
       "\n",
       "    if(typeof define === \"function\" && define.amd) {\n",
       "      requirejs.config({paths});\n",
       "      require([\"vega-embed\"], displayChart, err => showError(`Error loading script: ${err.message}`));\n",
       "    } else {\n",
       "      maybeLoadScript(\"vega\", \"5\")\n",
       "        .then(() => maybeLoadScript(\"vega-lite\", \"4.17.0\"))\n",
       "        .then(() => maybeLoadScript(\"vega-embed\", \"6\"))\n",
       "        .catch(showError)\n",
       "        .then(() => displayChart(vegaEmbed));\n",
       "    }\n",
       "  })({\"config\": {\"view\": {\"continuousWidth\": 400, \"continuousHeight\": 300}}, \"data\": {\"name\": \"data-a5e6ba77fc03648e53d8b279c6b11618\"}, \"mark\": {\"type\": \"bar\", \"size\": 5}, \"encoding\": {\"x\": {\"field\": \"target\", \"title\": \"Actual Mass (g)\", \"type\": \"quantitative\"}, \"y\": {\"field\": \"lr\", \"title\": \"Prediction Error (g)\", \"type\": \"quantitative\"}}, \"title\": \"Errors using simple linear regression with groups of 1000 data points\", \"$schema\": \"https://vega.github.io/schema/vega-lite/v4.17.0.json\", \"datasets\": {\"data-a5e6ba77fc03648e53d8b279c6b11618\": [{\"lr\": 0.10438364653367493, \"target\": 12.218099999999994}, {\"lr\": 0.44484910423818746, \"target\": 0.0}, {\"lr\": 0.36689435170051965, \"target\": 11.379199999999999}, {\"lr\": 0.2371654731589663, \"target\": 4.375700000000001}, {\"lr\": 0.5052379465084034, \"target\": 3.6689000000000007}, {\"lr\": 0.5246283677045644, \"target\": 6.4485}, {\"lr\": 0.34224235416107973, \"target\": 10.868899999999998}, {\"lr\": 0.016087124722460544, \"target\": 10.8597}, {\"lr\": 0.4621469501763258, \"target\": 18.4725}, {\"lr\": 0.3736552269193254, \"target\": 9.317499999999999}, {\"lr\": 0.25337384747165004, \"target\": 9.9847}, {\"lr\": 0.7164844396835086, \"target\": 4.623400000000002}, {\"lr\": 0.4162748007360939, \"target\": 9.1095}, {\"lr\": 0.18302756281853938, \"target\": 10.842899999999998}, {\"lr\": 0.4268360098357551, \"target\": 10.902899999999999}, {\"lr\": 0.338991149326457, \"target\": 10.789999999999996}, {\"lr\": 0.7290563670212329, \"target\": 21.135799999999996}, {\"lr\": 0.5727117265869524, \"target\": 9.0778}]}}, {\"mode\": \"vega-lite\"});\n",
       "</script>"
      ],
      "text/plain": [
       "alt.Chart(...)"
      ]
     },
     "execution_count": 28,
     "metadata": {},
     "output_type": "execute_result"
    }
   ],
   "source": [
    "bar_slr = alt.Chart(res).mark_bar(size=5).encode(\n",
    "     alt.X('target:Q', title ='Actual Mass (g)'),\n",
    "     alt.Y('lr:Q', title = 'Prediction Error (g)')\n",
    ").properties(\n",
    "    title = 'Errors using simple linear regression with groups of 1000 data points'\n",
    ")\n",
    "save_chart(bar_slr,'../../report/assets/bar_slr.png')\n",
    "bar_slr\n"
   ]
  },
  {
   "cell_type": "code",
   "execution_count": 29,
   "metadata": {},
   "outputs": [],
   "source": [
    "result = []\n",
    "target = []\n",
    "\n",
    "for i in range(len(files)):\n",
    "    data_count = int(10000/group_by_count)\n",
    "    test_set = df[i*data_count: (i+1)*data_count]\n",
    "    test_set_target = np.average(test_set['y'])\n",
    "    train_set = df.query('y != @test_set_target')\n",
    "    \n",
    "    X_train, y_train = train_set.drop(columns=['y']), train_set['y']\n",
    "    X_test, y_test = test_set.drop(columns=['y']), train_set['y']\n",
    "    \n",
    "    lr_pipe = make_pipeline(LinearRegression())\n",
    "    lr_pipe.fit(X_train,y_train)\n",
    "    \n",
    "    error = np.average(lr_pipe.predict(X_test)) - test_set_target\n",
    "    \n",
    "    target.append(test_set_target)\n",
    "    result.append(np.abs(error))\n",
    "res['mlr'] = result\n"
   ]
  },
  {
   "cell_type": "code",
   "execution_count": 30,
   "metadata": {},
   "outputs": [
    {
     "data": {
      "text/html": [
       "\n",
       "<div id=\"altair-viz-3653ae688bce4ce3b83d8286ce167cb0\"></div>\n",
       "<script type=\"text/javascript\">\n",
       "  var VEGA_DEBUG = (typeof VEGA_DEBUG == \"undefined\") ? {} : VEGA_DEBUG;\n",
       "  (function(spec, embedOpt){\n",
       "    let outputDiv = document.currentScript.previousElementSibling;\n",
       "    if (outputDiv.id !== \"altair-viz-3653ae688bce4ce3b83d8286ce167cb0\") {\n",
       "      outputDiv = document.getElementById(\"altair-viz-3653ae688bce4ce3b83d8286ce167cb0\");\n",
       "    }\n",
       "    const paths = {\n",
       "      \"vega\": \"https://cdn.jsdelivr.net/npm//vega@5?noext\",\n",
       "      \"vega-lib\": \"https://cdn.jsdelivr.net/npm//vega-lib?noext\",\n",
       "      \"vega-lite\": \"https://cdn.jsdelivr.net/npm//vega-lite@4.17.0?noext\",\n",
       "      \"vega-embed\": \"https://cdn.jsdelivr.net/npm//vega-embed@6?noext\",\n",
       "    };\n",
       "\n",
       "    function maybeLoadScript(lib, version) {\n",
       "      var key = `${lib.replace(\"-\", \"\")}_version`;\n",
       "      return (VEGA_DEBUG[key] == version) ?\n",
       "        Promise.resolve(paths[lib]) :\n",
       "        new Promise(function(resolve, reject) {\n",
       "          var s = document.createElement('script');\n",
       "          document.getElementsByTagName(\"head\")[0].appendChild(s);\n",
       "          s.async = true;\n",
       "          s.onload = () => {\n",
       "            VEGA_DEBUG[key] = version;\n",
       "            return resolve(paths[lib]);\n",
       "          };\n",
       "          s.onerror = () => reject(`Error loading script: ${paths[lib]}`);\n",
       "          s.src = paths[lib];\n",
       "        });\n",
       "    }\n",
       "\n",
       "    function showError(err) {\n",
       "      outputDiv.innerHTML = `<div class=\"error\" style=\"color:red;\">${err}</div>`;\n",
       "      throw err;\n",
       "    }\n",
       "\n",
       "    function displayChart(vegaEmbed) {\n",
       "      vegaEmbed(outputDiv, spec, embedOpt)\n",
       "        .catch(err => showError(`Javascript Error: ${err.message}<br>This usually means there's a typo in your chart specification. See the javascript console for the full traceback.`));\n",
       "    }\n",
       "\n",
       "    if(typeof define === \"function\" && define.amd) {\n",
       "      requirejs.config({paths});\n",
       "      require([\"vega-embed\"], displayChart, err => showError(`Error loading script: ${err.message}`));\n",
       "    } else {\n",
       "      maybeLoadScript(\"vega\", \"5\")\n",
       "        .then(() => maybeLoadScript(\"vega-lite\", \"4.17.0\"))\n",
       "        .then(() => maybeLoadScript(\"vega-embed\", \"6\"))\n",
       "        .catch(showError)\n",
       "        .then(() => displayChart(vegaEmbed));\n",
       "    }\n",
       "  })({\"config\": {\"view\": {\"continuousWidth\": 400, \"continuousHeight\": 300}}, \"data\": {\"name\": \"data-140a45d1f842bef8115f51828a9bb9b4\"}, \"mark\": {\"type\": \"bar\", \"size\": 5}, \"encoding\": {\"x\": {\"field\": \"target\", \"title\": \"Actual Mass (g)\", \"type\": \"quantitative\"}, \"y\": {\"field\": \"mlr\", \"title\": \"Prediction Error (g)\", \"type\": \"quantitative\"}}, \"title\": \"Errors using multiple linear regression with groups of 1000 data points\", \"$schema\": \"https://vega.github.io/schema/vega-lite/v4.17.0.json\", \"datasets\": {\"data-140a45d1f842bef8115f51828a9bb9b4\": [{\"lr\": 0.10438364653367493, \"target\": 12.218099999999994, \"mlr\": 0.09242516259474876}, {\"lr\": 0.44484910423818746, \"target\": 0.0, \"mlr\": 0.2970418009412015}, {\"lr\": 0.36689435170051965, \"target\": 11.379199999999999, \"mlr\": 0.03665858127897792}, {\"lr\": 0.2371654731589663, \"target\": 4.375700000000001, \"mlr\": 0.02756439662619492}, {\"lr\": 0.5052379465084034, \"target\": 3.6689000000000007, \"mlr\": 0.061437104665863274}, {\"lr\": 0.5246283677045644, \"target\": 6.4485, \"mlr\": 0.17954887456218227}, {\"lr\": 0.34224235416107973, \"target\": 10.868899999999998, \"mlr\": 0.06087005751413521}, {\"lr\": 0.016087124722460544, \"target\": 10.8597, \"mlr\": 0.014124242242449014}, {\"lr\": 0.4621469501763258, \"target\": 18.4725, \"mlr\": 0.23697712287149386}, {\"lr\": 0.3736552269193254, \"target\": 9.317499999999999, \"mlr\": 0.15888758245016987}, {\"lr\": 0.25337384747165004, \"target\": 9.9847, \"mlr\": 0.06397126822394306}, {\"lr\": 0.7164844396835086, \"target\": 4.623400000000002, \"mlr\": 0.12228643063098321}, {\"lr\": 0.4162748007360939, \"target\": 9.1095, \"mlr\": 0.01741816652393169}, {\"lr\": 0.18302756281853938, \"target\": 10.842899999999998, \"mlr\": 0.07064102578841513}, {\"lr\": 0.4268360098357551, \"target\": 10.902899999999999, \"mlr\": 0.10344025358829256}, {\"lr\": 0.338991149326457, \"target\": 10.789999999999996, \"mlr\": 0.08941511178014849}, {\"lr\": 0.7290563670212329, \"target\": 21.135799999999996, \"mlr\": 0.06946367528507835}, {\"lr\": 0.5727117265869524, \"target\": 9.0778, \"mlr\": 0.07358861187701393}]}}, {\"mode\": \"vega-lite\"});\n",
       "</script>"
      ],
      "text/plain": [
       "alt.Chart(...)"
      ]
     },
     "execution_count": 30,
     "metadata": {},
     "output_type": "execute_result"
    }
   ],
   "source": [
    "bar_mlr = alt.Chart(res).mark_bar(size=5).encode(\n",
    "     alt.X('target:Q', title ='Actual Mass (g)'),\n",
    "     alt.Y('mlr:Q', title = 'Prediction Error (g)')\n",
    ").properties(\n",
    "    title = 'Errors using multiple linear regression with groups of 1000 data points'\n",
    ")\n",
    "save_chart(bar_slr,'../../report/assets/bar_mlr.png')\n",
    "bar_mlr\n"
   ]
  },
  {
   "cell_type": "code",
   "execution_count": 42,
   "metadata": {},
   "outputs": [],
   "source": [
    "result = []\n",
    "target = []\n",
    "\n",
    "for i in range(len(files)):\n",
    "    data_count = int(10000/group_by_count)\n",
    "    test_set = df[i*data_count: (i+1)*data_count]\n",
    "    test_set_target = np.average(test_set['y'])\n",
    "    train_set = df.query('y != @test_set_target')\n",
    "    \n",
    "    X_train, y_train = train_set.drop(columns=['y']), train_set['y']\n",
    "    X_test, y_test = test_set.drop(columns=['y']), train_set['y']\n",
    "    svr_pipe = make_pipeline(StandardScaler(), SVR(C = 1000.0, \n",
    "                                                   gamma=0.000501187233627273)) #tune_svr(X_train, y_train)\n",
    "    svr_pipe.fit(X_train, y_train)\n",
    "    error = np.average(svr_pipe.predict(X_test)) - test_set_target\n",
    "    \n",
    "    target.append(test_set_target)\n",
    "    result.append(np.abs(error))\n",
    "res['svr'] = result"
   ]
  },
  {
   "cell_type": "code",
   "execution_count": 43,
   "metadata": {},
   "outputs": [
    {
     "data": {
      "text/html": [
       "\n",
       "<div id=\"altair-viz-475e6db4f8bd4f108c2272843a08c340\"></div>\n",
       "<script type=\"text/javascript\">\n",
       "  var VEGA_DEBUG = (typeof VEGA_DEBUG == \"undefined\") ? {} : VEGA_DEBUG;\n",
       "  (function(spec, embedOpt){\n",
       "    let outputDiv = document.currentScript.previousElementSibling;\n",
       "    if (outputDiv.id !== \"altair-viz-475e6db4f8bd4f108c2272843a08c340\") {\n",
       "      outputDiv = document.getElementById(\"altair-viz-475e6db4f8bd4f108c2272843a08c340\");\n",
       "    }\n",
       "    const paths = {\n",
       "      \"vega\": \"https://cdn.jsdelivr.net/npm//vega@5?noext\",\n",
       "      \"vega-lib\": \"https://cdn.jsdelivr.net/npm//vega-lib?noext\",\n",
       "      \"vega-lite\": \"https://cdn.jsdelivr.net/npm//vega-lite@4.17.0?noext\",\n",
       "      \"vega-embed\": \"https://cdn.jsdelivr.net/npm//vega-embed@6?noext\",\n",
       "    };\n",
       "\n",
       "    function maybeLoadScript(lib, version) {\n",
       "      var key = `${lib.replace(\"-\", \"\")}_version`;\n",
       "      return (VEGA_DEBUG[key] == version) ?\n",
       "        Promise.resolve(paths[lib]) :\n",
       "        new Promise(function(resolve, reject) {\n",
       "          var s = document.createElement('script');\n",
       "          document.getElementsByTagName(\"head\")[0].appendChild(s);\n",
       "          s.async = true;\n",
       "          s.onload = () => {\n",
       "            VEGA_DEBUG[key] = version;\n",
       "            return resolve(paths[lib]);\n",
       "          };\n",
       "          s.onerror = () => reject(`Error loading script: ${paths[lib]}`);\n",
       "          s.src = paths[lib];\n",
       "        });\n",
       "    }\n",
       "\n",
       "    function showError(err) {\n",
       "      outputDiv.innerHTML = `<div class=\"error\" style=\"color:red;\">${err}</div>`;\n",
       "      throw err;\n",
       "    }\n",
       "\n",
       "    function displayChart(vegaEmbed) {\n",
       "      vegaEmbed(outputDiv, spec, embedOpt)\n",
       "        .catch(err => showError(`Javascript Error: ${err.message}<br>This usually means there's a typo in your chart specification. See the javascript console for the full traceback.`));\n",
       "    }\n",
       "\n",
       "    if(typeof define === \"function\" && define.amd) {\n",
       "      requirejs.config({paths});\n",
       "      require([\"vega-embed\"], displayChart, err => showError(`Error loading script: ${err.message}`));\n",
       "    } else {\n",
       "      maybeLoadScript(\"vega\", \"5\")\n",
       "        .then(() => maybeLoadScript(\"vega-lite\", \"4.17.0\"))\n",
       "        .then(() => maybeLoadScript(\"vega-embed\", \"6\"))\n",
       "        .catch(showError)\n",
       "        .then(() => displayChart(vegaEmbed));\n",
       "    }\n",
       "  })({\"config\": {\"view\": {\"continuousWidth\": 400, \"continuousHeight\": 300}}, \"data\": {\"name\": \"data-c770e3379fbc7e26fb4b6dcb66ef3359\"}, \"mark\": {\"type\": \"bar\", \"size\": 5}, \"encoding\": {\"x\": {\"field\": \"target\", \"title\": \"Actual Mass (g)\", \"type\": \"quantitative\"}, \"y\": {\"field\": \"svr\", \"title\": \"Prediction Error (g)\", \"type\": \"quantitative\"}}, \"title\": \"Errors using support vector machines with groups of 1000 data points\", \"$schema\": \"https://vega.github.io/schema/vega-lite/v4.17.0.json\", \"datasets\": {\"data-c770e3379fbc7e26fb4b6dcb66ef3359\": [{\"lr\": 0.10438364653367493, \"target\": 12.218099999999994, \"mlr\": 0.09242516259474876, \"svr\": 0.09146098082534415}, {\"lr\": 0.44484910423818746, \"target\": 0.0, \"mlr\": 0.2970418009412015, \"svr\": 0.10619790339794513}, {\"lr\": 0.36689435170051965, \"target\": 11.379199999999999, \"mlr\": 0.03665858127897792, \"svr\": 0.0030034867705328594}, {\"lr\": 0.2371654731589663, \"target\": 4.375700000000001, \"mlr\": 0.02756439662619492, \"svr\": 0.0017110920803355967}, {\"lr\": 0.5052379465084034, \"target\": 3.6689000000000007, \"mlr\": 0.061437104665863274, \"svr\": 0.05686407523807713}, {\"lr\": 0.5246283677045644, \"target\": 6.4485, \"mlr\": 0.17954887456218227, \"svr\": 0.13410952046905766}, {\"lr\": 0.34224235416107973, \"target\": 10.868899999999998, \"mlr\": 0.06087005751413521, \"svr\": 0.07381973484500293}, {\"lr\": 0.016087124722460544, \"target\": 10.8597, \"mlr\": 0.014124242242449014, \"svr\": 0.003576556925082741}, {\"lr\": 0.4621469501763258, \"target\": 18.4725, \"mlr\": 0.23697712287149386, \"svr\": 0.18241958871412578}, {\"lr\": 0.3736552269193254, \"target\": 9.317499999999999, \"mlr\": 0.15888758245016987, \"svr\": 0.18385263415748554}, {\"lr\": 0.25337384747165004, \"target\": 9.9847, \"mlr\": 0.06397126822394306, \"svr\": 0.07131988216166008}, {\"lr\": 0.7164844396835086, \"target\": 4.623400000000002, \"mlr\": 0.12228643063098321, \"svr\": 0.029490964224365257}, {\"lr\": 0.4162748007360939, \"target\": 9.1095, \"mlr\": 0.01741816652393169, \"svr\": 0.021154133947559828}, {\"lr\": 0.18302756281853938, \"target\": 10.842899999999998, \"mlr\": 0.07064102578841513, \"svr\": 0.05153362492901259}, {\"lr\": 0.4268360098357551, \"target\": 10.902899999999999, \"mlr\": 0.10344025358829256, \"svr\": 0.09494597463301702}, {\"lr\": 0.338991149326457, \"target\": 10.789999999999996, \"mlr\": 0.08941511178014849, \"svr\": 0.06695049814461917}, {\"lr\": 0.7290563670212329, \"target\": 21.135799999999996, \"mlr\": 0.06946367528507835, \"svr\": 0.04030406031373346}, {\"lr\": 0.5727117265869524, \"target\": 9.0778, \"mlr\": 0.07358861187701393, \"svr\": 0.061701905799937506}]}}, {\"mode\": \"vega-lite\"});\n",
       "</script>"
      ],
      "text/plain": [
       "alt.Chart(...)"
      ]
     },
     "execution_count": 43,
     "metadata": {},
     "output_type": "execute_result"
    }
   ],
   "source": [
    "bar_svr = alt.Chart(res).mark_bar(size=5).encode(\n",
    "     alt.X('target:Q', title ='Actual Mass (g)'),\n",
    "     alt.Y('svr:Q', title = 'Prediction Error (g)')\n",
    ").properties(\n",
    "    title = 'Errors using support vector machines with groups of 1000 data points'\n",
    ")\n",
    "save_chart(bar_slr,'../../report/assets/bar_svr.png')\n",
    "bar_svr\n"
   ]
  },
  {
   "cell_type": "code",
   "execution_count": 45,
   "metadata": {},
   "outputs": [
    {
     "data": {
      "text/html": [
       "\n",
       "<div id=\"altair-viz-2359bc5b84154033af5d492fb206e4b1\"></div>\n",
       "<script type=\"text/javascript\">\n",
       "  var VEGA_DEBUG = (typeof VEGA_DEBUG == \"undefined\") ? {} : VEGA_DEBUG;\n",
       "  (function(spec, embedOpt){\n",
       "    let outputDiv = document.currentScript.previousElementSibling;\n",
       "    if (outputDiv.id !== \"altair-viz-2359bc5b84154033af5d492fb206e4b1\") {\n",
       "      outputDiv = document.getElementById(\"altair-viz-2359bc5b84154033af5d492fb206e4b1\");\n",
       "    }\n",
       "    const paths = {\n",
       "      \"vega\": \"https://cdn.jsdelivr.net/npm//vega@5?noext\",\n",
       "      \"vega-lib\": \"https://cdn.jsdelivr.net/npm//vega-lib?noext\",\n",
       "      \"vega-lite\": \"https://cdn.jsdelivr.net/npm//vega-lite@4.17.0?noext\",\n",
       "      \"vega-embed\": \"https://cdn.jsdelivr.net/npm//vega-embed@6?noext\",\n",
       "    };\n",
       "\n",
       "    function maybeLoadScript(lib, version) {\n",
       "      var key = `${lib.replace(\"-\", \"\")}_version`;\n",
       "      return (VEGA_DEBUG[key] == version) ?\n",
       "        Promise.resolve(paths[lib]) :\n",
       "        new Promise(function(resolve, reject) {\n",
       "          var s = document.createElement('script');\n",
       "          document.getElementsByTagName(\"head\")[0].appendChild(s);\n",
       "          s.async = true;\n",
       "          s.onload = () => {\n",
       "            VEGA_DEBUG[key] = version;\n",
       "            return resolve(paths[lib]);\n",
       "          };\n",
       "          s.onerror = () => reject(`Error loading script: ${paths[lib]}`);\n",
       "          s.src = paths[lib];\n",
       "        });\n",
       "    }\n",
       "\n",
       "    function showError(err) {\n",
       "      outputDiv.innerHTML = `<div class=\"error\" style=\"color:red;\">${err}</div>`;\n",
       "      throw err;\n",
       "    }\n",
       "\n",
       "    function displayChart(vegaEmbed) {\n",
       "      vegaEmbed(outputDiv, spec, embedOpt)\n",
       "        .catch(err => showError(`Javascript Error: ${err.message}<br>This usually means there's a typo in your chart specification. See the javascript console for the full traceback.`));\n",
       "    }\n",
       "\n",
       "    if(typeof define === \"function\" && define.amd) {\n",
       "      requirejs.config({paths});\n",
       "      require([\"vega-embed\"], displayChart, err => showError(`Error loading script: ${err.message}`));\n",
       "    } else {\n",
       "      maybeLoadScript(\"vega\", \"5\")\n",
       "        .then(() => maybeLoadScript(\"vega-lite\", \"4.17.0\"))\n",
       "        .then(() => maybeLoadScript(\"vega-embed\", \"6\"))\n",
       "        .catch(showError)\n",
       "        .then(() => displayChart(vegaEmbed));\n",
       "    }\n",
       "  })({\"config\": {\"view\": {\"continuousWidth\": 400, \"continuousHeight\": 300}}, \"data\": {\"name\": \"data-ec2cfec90f14a1686d8a4866af1cf384\"}, \"mark\": \"boxplot\", \"encoding\": {\"color\": {\"field\": \"variable\", \"type\": \"nominal\"}, \"x\": {\"field\": \"value\", \"title\": \"Error (g)\", \"type\": \"quantitative\"}, \"y\": {\"field\": \"variable\", \"title\": \"Model\", \"type\": \"nominal\"}}, \"$schema\": \"https://vega.github.io/schema/vega-lite/v4.17.0.json\", \"datasets\": {\"data-ec2cfec90f14a1686d8a4866af1cf384\": [{\"variable\": \"lr\", \"value\": 0.10438364653367493}, {\"variable\": \"lr\", \"value\": 0.44484910423818746}, {\"variable\": \"lr\", \"value\": 0.36689435170051965}, {\"variable\": \"lr\", \"value\": 0.2371654731589663}, {\"variable\": \"lr\", \"value\": 0.5052379465084034}, {\"variable\": \"lr\", \"value\": 0.5246283677045644}, {\"variable\": \"lr\", \"value\": 0.34224235416107973}, {\"variable\": \"lr\", \"value\": 0.016087124722460544}, {\"variable\": \"lr\", \"value\": 0.4621469501763258}, {\"variable\": \"lr\", \"value\": 0.3736552269193254}, {\"variable\": \"lr\", \"value\": 0.25337384747165004}, {\"variable\": \"lr\", \"value\": 0.7164844396835086}, {\"variable\": \"lr\", \"value\": 0.4162748007360939}, {\"variable\": \"lr\", \"value\": 0.18302756281853938}, {\"variable\": \"lr\", \"value\": 0.4268360098357551}, {\"variable\": \"lr\", \"value\": 0.338991149326457}, {\"variable\": \"lr\", \"value\": 0.7290563670212329}, {\"variable\": \"lr\", \"value\": 0.5727117265869524}, {\"variable\": \"mlr\", \"value\": 0.09242516259474876}, {\"variable\": \"mlr\", \"value\": 0.2970418009412015}, {\"variable\": \"mlr\", \"value\": 0.03665858127897792}, {\"variable\": \"mlr\", \"value\": 0.02756439662619492}, {\"variable\": \"mlr\", \"value\": 0.061437104665863274}, {\"variable\": \"mlr\", \"value\": 0.17954887456218227}, {\"variable\": \"mlr\", \"value\": 0.06087005751413521}, {\"variable\": \"mlr\", \"value\": 0.014124242242449014}, {\"variable\": \"mlr\", \"value\": 0.23697712287149386}, {\"variable\": \"mlr\", \"value\": 0.15888758245016987}, {\"variable\": \"mlr\", \"value\": 0.06397126822394306}, {\"variable\": \"mlr\", \"value\": 0.12228643063098321}, {\"variable\": \"mlr\", \"value\": 0.01741816652393169}, {\"variable\": \"mlr\", \"value\": 0.07064102578841513}, {\"variable\": \"mlr\", \"value\": 0.10344025358829256}, {\"variable\": \"mlr\", \"value\": 0.08941511178014849}, {\"variable\": \"mlr\", \"value\": 0.06946367528507835}, {\"variable\": \"mlr\", \"value\": 0.07358861187701393}, {\"variable\": \"svr\", \"value\": 0.09146098082534415}, {\"variable\": \"svr\", \"value\": 0.10619790339794513}, {\"variable\": \"svr\", \"value\": 0.0030034867705328594}, {\"variable\": \"svr\", \"value\": 0.0017110920803355967}, {\"variable\": \"svr\", \"value\": 0.05686407523807713}, {\"variable\": \"svr\", \"value\": 0.13410952046905766}, {\"variable\": \"svr\", \"value\": 0.07381973484500293}, {\"variable\": \"svr\", \"value\": 0.003576556925082741}, {\"variable\": \"svr\", \"value\": 0.18241958871412578}, {\"variable\": \"svr\", \"value\": 0.18385263415748554}, {\"variable\": \"svr\", \"value\": 0.07131988216166008}, {\"variable\": \"svr\", \"value\": 0.029490964224365257}, {\"variable\": \"svr\", \"value\": 0.021154133947559828}, {\"variable\": \"svr\", \"value\": 0.05153362492901259}, {\"variable\": \"svr\", \"value\": 0.09494597463301702}, {\"variable\": \"svr\", \"value\": 0.06695049814461917}, {\"variable\": \"svr\", \"value\": 0.04030406031373346}, {\"variable\": \"svr\", \"value\": 0.061701905799937506}]}}, {\"mode\": \"vega-lite\"});\n",
       "</script>"
      ],
      "text/plain": [
       "alt.Chart(...)"
      ]
     },
     "execution_count": 45,
     "metadata": {},
     "output_type": "execute_result"
    }
   ],
   "source": [
    "box_models = (alt.Chart(res.drop(columns = ['target']).melt())\n",
    " .mark_boxplot().encode(\n",
    "     x=alt.X('value',title='Error (g)'),\n",
    "     y=alt.Y('variable',title='Model'),\n",
    "     color='variable'))\n",
    "save_chart(bar_slr,'../../report/assets/box_models.png')\n",
    "box_models"
   ]
  },
  {
   "cell_type": "code",
   "execution_count": null,
   "metadata": {},
   "outputs": [],
   "source": []
  }
 ],
 "metadata": {
  "kernelspec": {
   "display_name": "Python 3.10.6 ('MDS')",
   "language": "python",
   "name": "python3"
  },
  "language_info": {
   "codemirror_mode": {
    "name": "ipython",
    "version": 3
   },
   "file_extension": ".py",
   "mimetype": "text/x-python",
   "name": "python",
   "nbconvert_exporter": "python",
   "pygments_lexer": "ipython3",
   "version": "3.10.8"
  },
  "orig_nbformat": 4,
  "vscode": {
   "interpreter": {
    "hash": "63efc083453448458060aa2c1f069a7755b55a462b5fce058c1dca82068700dd"
   }
  }
 },
 "nbformat": 4,
 "nbformat_minor": 2
}
