{
 "cells": [
  {
   "cell_type": "code",
   "execution_count": 1,
   "metadata": {},
   "outputs": [],
   "source": [
    "import numpy as np\n",
    "import pandas as pd\n",
    "import altair as alt\n",
    "import sys\n",
    "cur_dir = os.getcwd()\n",
    "SRC_PATH = cur_dir[\n",
    "    : cur_dir.index(\"arm_balance\") + len(\"arm_balance\")\n",
    "]\n",
    "if SRC_PATH not in sys.path:\n",
    "    sys.path.append(SRC_PATH)\n",
    "    \n",
    "from src.utils.utils import *\n",
    "alt.data_transformers.enable('data_server')\n",
    "SAMPLE_DATA_PATH = '../../data/raw_data/Cu.csv'\n",
    "sample_data_frame = pd.read_csv(SAMPLE_DATA_PATH) "
   ]
  },
  {
   "cell_type": "code",
   "execution_count": 2,
   "metadata": {},
   "outputs": [],
   "source": [
    "sample_data_frame.columns = ['','joint 1','joint 2','joint 3','joint 4','joint 5','joint 6','y']"
   ]
  },
  {
   "cell_type": "code",
   "execution_count": 3,
   "metadata": {},
   "outputs": [
    {
     "data": {
      "text/html": [
       "\n",
       "<div id=\"altair-viz-8ff20c58f2f248199c0c99591eea4d82\"></div>\n",
       "<script type=\"text/javascript\">\n",
       "  var VEGA_DEBUG = (typeof VEGA_DEBUG == \"undefined\") ? {} : VEGA_DEBUG;\n",
       "  (function(spec, embedOpt){\n",
       "    let outputDiv = document.currentScript.previousElementSibling;\n",
       "    if (outputDiv.id !== \"altair-viz-8ff20c58f2f248199c0c99591eea4d82\") {\n",
       "      outputDiv = document.getElementById(\"altair-viz-8ff20c58f2f248199c0c99591eea4d82\");\n",
       "    }\n",
       "    const paths = {\n",
       "      \"vega\": \"https://cdn.jsdelivr.net/npm//vega@5?noext\",\n",
       "      \"vega-lib\": \"https://cdn.jsdelivr.net/npm//vega-lib?noext\",\n",
       "      \"vega-lite\": \"https://cdn.jsdelivr.net/npm//vega-lite@4.17.0?noext\",\n",
       "      \"vega-embed\": \"https://cdn.jsdelivr.net/npm//vega-embed@6?noext\",\n",
       "    };\n",
       "\n",
       "    function maybeLoadScript(lib, version) {\n",
       "      var key = `${lib.replace(\"-\", \"\")}_version`;\n",
       "      return (VEGA_DEBUG[key] == version) ?\n",
       "        Promise.resolve(paths[lib]) :\n",
       "        new Promise(function(resolve, reject) {\n",
       "          var s = document.createElement('script');\n",
       "          document.getElementsByTagName(\"head\")[0].appendChild(s);\n",
       "          s.async = true;\n",
       "          s.onload = () => {\n",
       "            VEGA_DEBUG[key] = version;\n",
       "            return resolve(paths[lib]);\n",
       "          };\n",
       "          s.onerror = () => reject(`Error loading script: ${paths[lib]}`);\n",
       "          s.src = paths[lib];\n",
       "        });\n",
       "    }\n",
       "\n",
       "    function showError(err) {\n",
       "      outputDiv.innerHTML = `<div class=\"error\" style=\"color:red;\">${err}</div>`;\n",
       "      throw err;\n",
       "    }\n",
       "\n",
       "    function displayChart(vegaEmbed) {\n",
       "      vegaEmbed(outputDiv, spec, embedOpt)\n",
       "        .catch(err => showError(`Javascript Error: ${err.message}<br>This usually means there's a typo in your chart specification. See the javascript console for the full traceback.`));\n",
       "    }\n",
       "\n",
       "    if(typeof define === \"function\" && define.amd) {\n",
       "      requirejs.config({paths});\n",
       "      require([\"vega-embed\"], displayChart, err => showError(`Error loading script: ${err.message}`));\n",
       "    } else {\n",
       "      maybeLoadScript(\"vega\", \"5\")\n",
       "        .then(() => maybeLoadScript(\"vega-lite\", \"4.17.0\"))\n",
       "        .then(() => maybeLoadScript(\"vega-embed\", \"6\"))\n",
       "        .catch(showError)\n",
       "        .then(() => displayChart(vegaEmbed));\n",
       "    }\n",
       "  })({\"config\": {\"view\": {\"continuousWidth\": 400, \"continuousHeight\": 300}}, \"repeat\": [\"joint 1\", \"joint 2\", \"joint 3\", \"joint 4\", \"joint 5\", \"joint 6\"], \"spec\": {\"data\": {\"url\": \"http://localhost:51323/b55d36fb2db6ac288bffc24650b11ac5.json\"}, \"mark\": \"bar\", \"encoding\": {\"x\": {\"bin\": {\"maxbins\": 60}, \"field\": {\"repeat\": \"repeat\"}, \"type\": \"quantitative\"}, \"y\": {\"aggregate\": \"count\", \"type\": \"quantitative\"}}, \"height\": 200, \"width\": 300}, \"columns\": 3, \"$schema\": \"https://vega.github.io/schema/vega-lite/v4.17.0.json\"}, {\"mode\": \"vega-lite\"});\n",
       "</script>"
      ],
      "text/plain": [
       "alt.RepeatChart(...)"
      ]
     },
     "execution_count": 3,
     "metadata": {},
     "output_type": "execute_result"
    }
   ],
   "source": [
    "hist = alt.Chart(sample_data_frame).mark_bar().encode(\n",
    "     alt.X(alt.repeat(), type='quantitative', bin=alt.Bin(maxbins=60)),\n",
    "     y='count()',\n",
    ").properties(\n",
    "    width=300,\n",
    "    height=200\n",
    ").repeat(\n",
    "    ['joint 1','joint 2','joint 3','joint 4','joint 5','joint 6'],\n",
    "    columns=3\n",
    ")\n",
    "save_chart(hist, '../../report/assets/joints.png')\n",
    "hist"
   ]
  },
  {
   "cell_type": "code",
   "execution_count": 4,
   "metadata": {},
   "outputs": [],
   "source": [
    "from scipy.stats import normaltest\n",
    "joints = ['joint 1','joint 2','joint 3','joint 4','joint 5','joint 6']\n",
    "test_stats = [normaltest(sample_data_frame[j].tolist()) for j in joints]"
   ]
  },
  {
   "cell_type": "code",
   "execution_count": 5,
   "metadata": {},
   "outputs": [
    {
     "data": {
      "text/plain": [
       "[NormaltestResult(statistic=50.98775561111557, pvalue=8.475192021133844e-12),\n",
       " NormaltestResult(statistic=5056.619171930607, pvalue=0.0),\n",
       " NormaltestResult(statistic=1833.2597834674914, pvalue=0.0),\n",
       " NormaltestResult(statistic=8.016749538935988, pvalue=0.018162890145910007),\n",
       " NormaltestResult(statistic=1328.4076951615998, pvalue=3.466842698069377e-289),\n",
       " NormaltestResult(statistic=25.7409689181122, pvalue=2.5728805270846933e-06)]"
      ]
     },
     "execution_count": 5,
     "metadata": {},
     "output_type": "execute_result"
    }
   ],
   "source": [
    "test_stats"
   ]
  },
  {
   "cell_type": "markdown",
   "metadata": {},
   "source": [
    "Given the test statistics, we can conclude with 95% confidence that the null hypothesis \"joint torques comes from a normal distribution\" can be rejected."
   ]
  },
  {
   "cell_type": "code",
   "execution_count": 6,
   "metadata": {},
   "outputs": [],
   "source": [
    "stdevs = []\n",
    "DATA_DIR = '../../data/raw_data/'\n",
    "for f in os.listdir(DATA_DIR):\n",
    "    stdevs.append((np.std(pd.read_csv(DATA_DIR+f), axis=0).to_numpy().tolist()+[pd.read_csv(DATA_DIR+f)['y'][1]]))"
   ]
  },
  {
   "cell_type": "code",
   "execution_count": 7,
   "metadata": {},
   "outputs": [
    {
     "data": {
      "text/html": [
       "\n",
       "<div id=\"altair-viz-c4dd024564304b6e98f5240bf8e3f090\"></div>\n",
       "<script type=\"text/javascript\">\n",
       "  var VEGA_DEBUG = (typeof VEGA_DEBUG == \"undefined\") ? {} : VEGA_DEBUG;\n",
       "  (function(spec, embedOpt){\n",
       "    let outputDiv = document.currentScript.previousElementSibling;\n",
       "    if (outputDiv.id !== \"altair-viz-c4dd024564304b6e98f5240bf8e3f090\") {\n",
       "      outputDiv = document.getElementById(\"altair-viz-c4dd024564304b6e98f5240bf8e3f090\");\n",
       "    }\n",
       "    const paths = {\n",
       "      \"vega\": \"https://cdn.jsdelivr.net/npm//vega@5?noext\",\n",
       "      \"vega-lib\": \"https://cdn.jsdelivr.net/npm//vega-lib?noext\",\n",
       "      \"vega-lite\": \"https://cdn.jsdelivr.net/npm//vega-lite@4.17.0?noext\",\n",
       "      \"vega-embed\": \"https://cdn.jsdelivr.net/npm//vega-embed@6?noext\",\n",
       "    };\n",
       "\n",
       "    function maybeLoadScript(lib, version) {\n",
       "      var key = `${lib.replace(\"-\", \"\")}_version`;\n",
       "      return (VEGA_DEBUG[key] == version) ?\n",
       "        Promise.resolve(paths[lib]) :\n",
       "        new Promise(function(resolve, reject) {\n",
       "          var s = document.createElement('script');\n",
       "          document.getElementsByTagName(\"head\")[0].appendChild(s);\n",
       "          s.async = true;\n",
       "          s.onload = () => {\n",
       "            VEGA_DEBUG[key] = version;\n",
       "            return resolve(paths[lib]);\n",
       "          };\n",
       "          s.onerror = () => reject(`Error loading script: ${paths[lib]}`);\n",
       "          s.src = paths[lib];\n",
       "        });\n",
       "    }\n",
       "\n",
       "    function showError(err) {\n",
       "      outputDiv.innerHTML = `<div class=\"error\" style=\"color:red;\">${err}</div>`;\n",
       "      throw err;\n",
       "    }\n",
       "\n",
       "    function displayChart(vegaEmbed) {\n",
       "      vegaEmbed(outputDiv, spec, embedOpt)\n",
       "        .catch(err => showError(`Javascript Error: ${err.message}<br>This usually means there's a typo in your chart specification. See the javascript console for the full traceback.`));\n",
       "    }\n",
       "\n",
       "    if(typeof define === \"function\" && define.amd) {\n",
       "      requirejs.config({paths});\n",
       "      require([\"vega-embed\"], displayChart, err => showError(`Error loading script: ${err.message}`));\n",
       "    } else {\n",
       "      maybeLoadScript(\"vega\", \"5\")\n",
       "        .then(() => maybeLoadScript(\"vega-lite\", \"4.17.0\"))\n",
       "        .then(() => maybeLoadScript(\"vega-embed\", \"6\"))\n",
       "        .catch(showError)\n",
       "        .then(() => displayChart(vegaEmbed));\n",
       "    }\n",
       "  })({\"config\": {\"view\": {\"continuousWidth\": 400, \"continuousHeight\": 300}}, \"layer\": [{\"mark\": {\"type\": \"point\", \"opacity\": 0.5}, \"encoding\": {\"color\": {\"field\": \"variable\", \"type\": \"nominal\"}, \"x\": {\"field\": \"y\", \"title\": \"Weight (g)\", \"type\": \"quantitative\"}, \"y\": {\"field\": \"value\", \"title\": \"Standard Deviation\", \"type\": \"quantitative\"}}, \"title\": \"Standard Deviation In Relationship to Weight\"}, {\"mark\": {\"type\": \"line\", \"size\": 3}, \"encoding\": {\"color\": {\"field\": \"variable\", \"type\": \"nominal\"}, \"x\": {\"field\": \"y\", \"title\": \"Weight (g)\", \"type\": \"quantitative\"}, \"y\": {\"field\": \"value\", \"title\": \"Standard Deviation\", \"type\": \"quantitative\"}}, \"title\": \"Standard Deviation In Relationship to Weight\", \"transform\": [{\"on\": \"y\", \"regression\": \"value\", \"groupby\": [\"variable\"]}]}], \"data\": {\"url\": \"http://localhost:51323/7d62a158ebb02ef58d7ec1054eecbc70.json\"}, \"$schema\": \"https://vega.github.io/schema/vega-lite/v4.17.0.json\"}, {\"mode\": \"vega-lite\"});\n",
       "</script>"
      ],
      "text/plain": [
       "alt.LayerChart(...)"
      ]
     },
     "execution_count": 7,
     "metadata": {},
     "output_type": "execute_result"
    }
   ],
   "source": [
    "std_plot_df = pd.DataFrame(stdevs).drop(columns = [0]).drop(columns = [7]).melt(id_vars=8)\n",
    "std_plot_df.columns = ['y', 'variable', 'value']\n",
    "std_plot_df['variable'] = std_plot_df['variable'].apply(str)\n",
    "std_plot = alt.Chart(std_plot_df).mark_point(opacity=0.5).encode(\n",
    "     alt.X('y', title ='Weight (g)'),\n",
    "     alt.Y('value', title = 'Standard Deviation'),\n",
    "     color = 'variable'\n",
    ").properties(\n",
    "    title = 'Standard Deviation In Relationship to Weight'\n",
    ")\n",
    "\n",
    "plot = std_plot+ std_plot.transform_regression('y', 'value',groupby=['variable']).mark_line(size=3)\n",
    "save_chart(plot,'../../report/assets/std_to_weight.png')\n",
    "plot"
   ]
  },
  {
   "cell_type": "markdown",
   "metadata": {},
   "source": [
    "Below is the standard deviation in relation to the data size. We see that the standard deviation stablizes near 1000 data points, which motivated us to take groups of 1000 torques as one estimate"
   ]
  },
  {
   "cell_type": "code",
   "execution_count": 8,
   "metadata": {},
   "outputs": [],
   "source": [
    "import random\n",
    "import matplotlib.pyplot as plt\n",
    "stdevs = []\n",
    "joint_2 = sample_data_frame['joint 2'].tolist()\n",
    "lims = range(len(joint_2))\n",
    "sampled_data = []\n",
    "for i in lims:\n",
    "    sampled_data.append(joint_2[i])\n",
    "    stdevs.append(np.std(sampled_data))\n",
    "source = pd.DataFrame({'Sample size' : lims,\n",
    "                       'Standard deviation (Nm)': stdevs})\n",
    "# plt.plot(lims, stdevs)\n",
    "# plt.xlabel('Sample size')\n",
    "# plt.ylabel('Standard deviation (Nm)')\n",
    "# plt.show()\n"
   ]
  },
  {
   "cell_type": "code",
   "execution_count": 9,
   "metadata": {},
   "outputs": [
    {
     "data": {
      "text/html": [
       "\n",
       "<div id=\"altair-viz-8f4d29228b4b485688d9e73f6b63bd4e\"></div>\n",
       "<script type=\"text/javascript\">\n",
       "  var VEGA_DEBUG = (typeof VEGA_DEBUG == \"undefined\") ? {} : VEGA_DEBUG;\n",
       "  (function(spec, embedOpt){\n",
       "    let outputDiv = document.currentScript.previousElementSibling;\n",
       "    if (outputDiv.id !== \"altair-viz-8f4d29228b4b485688d9e73f6b63bd4e\") {\n",
       "      outputDiv = document.getElementById(\"altair-viz-8f4d29228b4b485688d9e73f6b63bd4e\");\n",
       "    }\n",
       "    const paths = {\n",
       "      \"vega\": \"https://cdn.jsdelivr.net/npm//vega@5?noext\",\n",
       "      \"vega-lib\": \"https://cdn.jsdelivr.net/npm//vega-lib?noext\",\n",
       "      \"vega-lite\": \"https://cdn.jsdelivr.net/npm//vega-lite@4.17.0?noext\",\n",
       "      \"vega-embed\": \"https://cdn.jsdelivr.net/npm//vega-embed@6?noext\",\n",
       "    };\n",
       "\n",
       "    function maybeLoadScript(lib, version) {\n",
       "      var key = `${lib.replace(\"-\", \"\")}_version`;\n",
       "      return (VEGA_DEBUG[key] == version) ?\n",
       "        Promise.resolve(paths[lib]) :\n",
       "        new Promise(function(resolve, reject) {\n",
       "          var s = document.createElement('script');\n",
       "          document.getElementsByTagName(\"head\")[0].appendChild(s);\n",
       "          s.async = true;\n",
       "          s.onload = () => {\n",
       "            VEGA_DEBUG[key] = version;\n",
       "            return resolve(paths[lib]);\n",
       "          };\n",
       "          s.onerror = () => reject(`Error loading script: ${paths[lib]}`);\n",
       "          s.src = paths[lib];\n",
       "        });\n",
       "    }\n",
       "\n",
       "    function showError(err) {\n",
       "      outputDiv.innerHTML = `<div class=\"error\" style=\"color:red;\">${err}</div>`;\n",
       "      throw err;\n",
       "    }\n",
       "\n",
       "    function displayChart(vegaEmbed) {\n",
       "      vegaEmbed(outputDiv, spec, embedOpt)\n",
       "        .catch(err => showError(`Javascript Error: ${err.message}<br>This usually means there's a typo in your chart specification. See the javascript console for the full traceback.`));\n",
       "    }\n",
       "\n",
       "    if(typeof define === \"function\" && define.amd) {\n",
       "      requirejs.config({paths});\n",
       "      require([\"vega-embed\"], displayChart, err => showError(`Error loading script: ${err.message}`));\n",
       "    } else {\n",
       "      maybeLoadScript(\"vega\", \"5\")\n",
       "        .then(() => maybeLoadScript(\"vega-lite\", \"4.17.0\"))\n",
       "        .then(() => maybeLoadScript(\"vega-embed\", \"6\"))\n",
       "        .catch(showError)\n",
       "        .then(() => displayChart(vegaEmbed));\n",
       "    }\n",
       "  })({\"config\": {\"view\": {\"continuousWidth\": 400, \"continuousHeight\": 300}}, \"data\": {\"url\": \"http://localhost:51323/08bb8c2d99271f8d14fbb4a25303f562.json\"}, \"mark\": {\"type\": \"line\", \"size\": 1.5}, \"encoding\": {\"x\": {\"field\": \"Sample size\", \"title\": \"Sample size\", \"type\": \"quantitative\"}, \"y\": {\"field\": \"Standard deviation (Nm)\", \"title\": \"Standard deviation (Nm)\", \"type\": \"quantitative\"}}, \"title\": \"Standard Deviation In Relationship to Sample Size\", \"$schema\": \"https://vega.github.io/schema/vega-lite/v4.17.0.json\"}, {\"mode\": \"vega-lite\"});\n",
       "</script>"
      ],
      "text/plain": [
       "alt.Chart(...)"
      ]
     },
     "execution_count": 9,
     "metadata": {},
     "output_type": "execute_result"
    }
   ],
   "source": [
    "single_std = alt.Chart(source).mark_line(size=1.5).encode(\n",
    "     alt.X('Sample size', title ='Sample size'),\n",
    "     alt.Y('Standard deviation (Nm)', title = 'Standard deviation (Nm)')\n",
    ").properties(\n",
    "    title = 'Standard Deviation In Relationship to Sample Size'\n",
    ")\n",
    "save_chart(single_std,'../../report/assets/std_sample.png')\n",
    "single_std"
   ]
  },
  {
   "cell_type": "markdown",
   "metadata": {},
   "source": [
    "Thus, we process the data using averages of groups of 1000"
   ]
  },
  {
   "cell_type": "code",
   "execution_count": 10,
   "metadata": {},
   "outputs": [],
   "source": [
    "\n",
    "files = os.listdir(DATA_DIR)\n",
    "np.random.seed(123)\n",
    "np.random.shuffle(files)\n",
    "df = None\n",
    "group_by_count = 1000 # has to be 10000-divisble \n",
    "\n",
    "for data in files:\n",
    "    content = pd.read_csv(os.path.join(DATA_DIR, data))\n",
    "    for i in range(len(content)//group_by_count):\n",
    "        grouped_content = content[i*group_by_count: (i+1)*group_by_count]\n",
    "        grouped_content = pd.DataFrame(pd.DataFrame(np.average(grouped_content,      axis=0).reshape(1,8), \n",
    "                                       columns=content.columns), \n",
    "                                       columns=content.columns)\n",
    "        df = pd.concat([df, grouped_content])\n",
    "df = df.iloc[: , 1:].reset_index().iloc[:,1:]\n",
    "df.to_csv('../../data/grouped_data/grouped_data.csv', index=False)"
   ]
  },
  {
   "cell_type": "code",
   "execution_count": null,
   "metadata": {},
   "outputs": [],
   "source": []
  },
  {
   "cell_type": "code",
   "execution_count": null,
   "metadata": {},
   "outputs": [],
   "source": []
  }
 ],
 "metadata": {
  "kernelspec": {
   "display_name": "Python 3.10.6 ('MDS')",
   "language": "python",
   "name": "python3"
  },
  "language_info": {
   "codemirror_mode": {
    "name": "ipython",
    "version": 3
   },
   "file_extension": ".py",
   "mimetype": "text/x-python",
   "name": "python",
   "nbconvert_exporter": "python",
   "pygments_lexer": "ipython3",
   "version": "3.10.8"
  },
  "orig_nbformat": 4,
  "vscode": {
   "interpreter": {
    "hash": "63efc083453448458060aa2c1f069a7755b55a462b5fce058c1dca82068700dd"
   }
  }
 },
 "nbformat": 4,
 "nbformat_minor": 2
}
